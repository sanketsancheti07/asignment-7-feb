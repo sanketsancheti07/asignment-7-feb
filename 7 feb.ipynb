{
 "cells": [
  {
   "cell_type": "markdown",
   "id": "83b66323-1a85-4e51-abd6-e25e5de10890",
   "metadata": {},
   "source": [
    "Q.1"
   ]
  },
  {
   "cell_type": "code",
   "execution_count": 15,
   "id": "a91a6fb3-7096-4144-ad97-3fba1cecdadf",
   "metadata": {},
   "outputs": [],
   "source": [
    "def checkpwd(pwd):\n",
    "    a,b,c,d = 0,0,0,0\n",
    "    lower_case = ['a', 'b', 'c', 'd', 'e', 'f', 'g', 'h', 'i', 'j', 'k', 'l', 'm', 'n', 'o', 'p', 'q', 'r', 's', 't', 'u', 'v', 'w', 'x', 'y', 'z']\n",
    "    \n",
    "    upper_case = ['A', 'B', 'C', 'D', 'E', 'F', 'G', 'H', 'I', 'J', 'K', 'L', 'M', 'N', 'O', 'P', 'Q', 'R', 'S', 'T', 'U', 'V', 'W', 'X', 'Y', 'Z']\n",
    "    \n",
    "    special_char = symbols = ['~','!','@','#','$','%','^','&','*','_','-','+','=']\n",
    "    \n",
    "    digit = [1,2,3,4,5,6,7,8,9,0]\n",
    "    \n",
    "    if (len(pwd)==10):\n",
    "        for i in pwd:\n",
    "            if i in lower_case:\n",
    "                a = a+1\n",
    "            elif i in upper_case:\n",
    "                b = b+1\n",
    "            elif i in digit:\n",
    "                c = c+1\n",
    "            elif i in special_char:\n",
    "                d = d+1\n",
    "    if a>=2 and b>=2 and c>=1 and d>=3 and c+d+a+b == len(pwd):\n",
    "        print(\"valid Password\")\n",
    "    else:\n",
    "        print(\"invalid password\")"
   ]
  },
  {
   "cell_type": "code",
   "execution_count": 16,
   "id": "9193c3e7-9ddb-4be8-ad93-f4bc8dc41156",
   "metadata": {},
   "outputs": [
    {
     "name": "stdout",
     "output_type": "stream",
     "text": [
      "invalid password\n"
     ]
    }
   ],
   "source": [
    "checkpwd(\"abAB1_#@1A\")"
   ]
  },
  {
   "cell_type": "markdown",
   "id": "8f69e92a-8a8b-4357-b2e6-f371d1b6d5ff",
   "metadata": {},
   "source": [
    "Q.2"
   ]
  },
  {
   "cell_type": "code",
   "execution_count": 13,
   "id": "28b89c37-3ba8-47af-97c5-66f1c2df4a4b",
   "metadata": {},
   "outputs": [],
   "source": [
    "# string start with particular letter\n",
    "start = lambda x: \"yes\" if x[0] == \"P\" else \"no\""
   ]
  },
  {
   "cell_type": "code",
   "execution_count": 14,
   "id": "746fb9da-a751-476a-a265-66b4a589427f",
   "metadata": {},
   "outputs": [],
   "source": [
    "s = \"Python\""
   ]
  },
  {
   "cell_type": "code",
   "execution_count": 17,
   "id": "9b32f00b-47e5-4d20-8f26-686f38c49da1",
   "metadata": {},
   "outputs": [
    {
     "data": {
      "text/plain": [
       "'yes'"
      ]
     },
     "execution_count": 17,
     "metadata": {},
     "output_type": "execute_result"
    }
   ],
   "source": [
    "start(s)"
   ]
  },
  {
   "cell_type": "code",
   "execution_count": 9,
   "id": "b4da29aa-48a2-43eb-87b7-7639b48b3897",
   "metadata": {},
   "outputs": [],
   "source": [
    "# find the square of 1 to 10 \n",
    "square = lambda x: x*x "
   ]
  },
  {
   "cell_type": "code",
   "execution_count": 18,
   "id": "19c5d393-c756-4f1d-abec-38324de1b5a1",
   "metadata": {},
   "outputs": [],
   "source": [
    "l = []\n",
    "for i in range(1,11):\n",
    "    a = square(i)\n",
    "    l.append(a)"
   ]
  },
  {
   "cell_type": "code",
   "execution_count": 19,
   "id": "309ca2ce-ff69-4bcf-8abd-555a87432f84",
   "metadata": {},
   "outputs": [
    {
     "data": {
      "text/plain": [
       "[1, 4, 9, 16, 25, 36, 49, 64, 81, 100]"
      ]
     },
     "execution_count": 19,
     "metadata": {},
     "output_type": "execute_result"
    }
   ],
   "source": [
    "l"
   ]
  },
  {
   "cell_type": "code",
   "execution_count": 33,
   "id": "ca335c80-641d-4bec-a19f-1d32d285adc0",
   "metadata": {},
   "outputs": [],
   "source": [
    "# sort a list of tuple having fruit names and their quantity\n",
    "fruits = [(\"mango\",99),(\"orange\",80),(\"grapes\",1000)]\n",
    "sorted_fruits = sorted(fruits,key = lambda x: x[1])"
   ]
  },
  {
   "cell_type": "code",
   "execution_count": 34,
   "id": "8cc1fe26-0197-47a6-8ee4-15dd724d225a",
   "metadata": {},
   "outputs": [
    {
     "data": {
      "text/plain": [
       "[('orange', 80), ('mango', 99), ('grapes', 1000)]"
      ]
     },
     "execution_count": 34,
     "metadata": {},
     "output_type": "execute_result"
    }
   ],
   "source": [
    "sorted_fruits"
   ]
  },
  {
   "cell_type": "code",
   "execution_count": 38,
   "id": "65ffcc91-6d87-496b-a62a-1185226f7354",
   "metadata": {},
   "outputs": [],
   "source": [
    "# check the given number is even or not\n",
    "num = lambda x: \"Even\" if x%2==0 else \"no\""
   ]
  },
  {
   "cell_type": "code",
   "execution_count": 39,
   "id": "5bd485da-de06-4212-9240-03df5d4bb0c7",
   "metadata": {},
   "outputs": [
    {
     "data": {
      "text/plain": [
       "'Even'"
      ]
     },
     "execution_count": 39,
     "metadata": {},
     "output_type": "execute_result"
    }
   ],
   "source": [
    "num(10)"
   ]
  },
  {
   "cell_type": "code",
   "execution_count": 40,
   "id": "c9ec0df2-13ad-472f-8de7-2e7f2dba0e69",
   "metadata": {},
   "outputs": [
    {
     "data": {
      "text/plain": [
       "'no'"
      ]
     },
     "execution_count": 40,
     "metadata": {},
     "output_type": "execute_result"
    }
   ],
   "source": [
    "num(9)"
   ]
  },
  {
   "cell_type": "code",
   "execution_count": 44,
   "id": "c193ee80-5733-4827-9bc3-b19ef828fd65",
   "metadata": {},
   "outputs": [],
   "source": [
    "#filter odd numbers into given list \n",
    "l = [1,2,3,4,5,6,7,8,9,10]\n",
    "odd_number = filter(lambda x: x%2!=0,l) "
   ]
  },
  {
   "cell_type": "code",
   "execution_count": 46,
   "id": "61512780-ea18-4e0d-bbf4-0f1adc49490b",
   "metadata": {},
   "outputs": [
    {
     "data": {
      "text/plain": [
       "[1, 3, 5, 7, 9]"
      ]
     },
     "execution_count": 46,
     "metadata": {},
     "output_type": "execute_result"
    }
   ],
   "source": [
    "list(odd_number)\n"
   ]
  },
  {
   "cell_type": "code",
   "execution_count": 47,
   "id": "d7a7504d-b70c-4a98-b969-c4f47c80f642",
   "metadata": {},
   "outputs": [],
   "source": [
    "#sort the number into positive list and negative list\n",
    "l1 =[1,2,3,4,5,6,-1,-2,-3,-4,-5,0]\n",
    "positive_number = filter(lambda x: x>0,l1)\n",
    "negative_number = filter(lambda x:x<0,l1)"
   ]
  },
  {
   "cell_type": "code",
   "execution_count": 48,
   "id": "5d243a0c-7a83-4e87-af88-370b4bbe65c6",
   "metadata": {},
   "outputs": [
    {
     "data": {
      "text/plain": [
       "[1, 2, 3, 4, 5, 6]"
      ]
     },
     "execution_count": 48,
     "metadata": {},
     "output_type": "execute_result"
    }
   ],
   "source": [
    "list(positive_number)"
   ]
  },
  {
   "cell_type": "code",
   "execution_count": 49,
   "id": "0021eef3-ab0f-4fb5-8beb-633e5fee7709",
   "metadata": {},
   "outputs": [
    {
     "data": {
      "text/plain": [
       "{-5, -4, -3, -2, -1}"
      ]
     },
     "execution_count": 49,
     "metadata": {},
     "output_type": "execute_result"
    }
   ],
   "source": [
    "set(negative_number)"
   ]
  },
  {
   "cell_type": "code",
   "execution_count": null,
   "id": "f93d56ba-6750-47a6-871e-ee8e92e4ba94",
   "metadata": {},
   "outputs": [],
   "source": []
  }
 ],
 "metadata": {
  "kernelspec": {
   "display_name": "Python 3 (ipykernel)",
   "language": "python",
   "name": "python3"
  },
  "language_info": {
   "codemirror_mode": {
    "name": "ipython",
    "version": 3
   },
   "file_extension": ".py",
   "mimetype": "text/x-python",
   "name": "python",
   "nbconvert_exporter": "python",
   "pygments_lexer": "ipython3",
   "version": "3.10.8"
  }
 },
 "nbformat": 4,
 "nbformat_minor": 5
}
